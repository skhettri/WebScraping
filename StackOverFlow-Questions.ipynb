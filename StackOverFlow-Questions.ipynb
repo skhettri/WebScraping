{
 "cells": [
  {
   "cell_type": "code",
   "execution_count": 1,
   "metadata": {},
   "outputs": [],
   "source": [
    "import pandas as pd\n",
    "import numpy as np\n",
    "import urllib.request\n",
    "import requests\n",
    "from bs4 import BeautifulSoup\n",
    "import csv"
   ]
  },
  {
   "cell_type": "code",
   "execution_count": 2,
   "metadata": {},
   "outputs": [],
   "source": [
    "headers = {'User-Agent': 'Mozilla/5.0 (Macintosh; Intel Mac OS X 10_14_6) AppleWebKit/537.36 (KHTML, like Gecko) Chrome/90.0.XXXX.XXX Safari/537.36'}\n",
    "querylist=[]\n",
    "\n",
    "def getQueries(topic, page):\n",
    "    url= f'https://stackoverflow.com/questions/tagged/{topic}?tab=active&page={page}&pagesize=50'\n",
    "    req = requests.get(url, headers=headers)\n",
    "    soup = BeautifulSoup(req.text, 'html.parser')\n",
    "    queries = soup.find_all('div', {'class': 'question-summary'})\n",
    "    \n",
    "    for item in queries:\n",
    "        query = {\n",
    "        'Search Topic': topic,\n",
    "        'Title': item.find('a',{'class': 'question-hyperlink'}).text.strip(),\n",
    "        'Question': item.find('div', {'class': 'excerpt'}).text.strip(), #remove grayspace\n",
    "        'Votes': int(item.find('span',{'class': 'vote-count-post'}).text.strip()),\n",
    "        'Views': item.find('div',{'class': 'views'}).text.strip(),\n",
    "        'Answerer Name': item.find('div', {'class':'user-details'}).a.contents[0],\n",
    "        'Date of Answer': item.find('span', {'class': 'relativetime'})['title'],\n",
    "        'Answerer Reputation Score': str(item.find('span', {'class': 'reputation-score'}).text.strip()),        \n",
    "        }\n",
    "        querylist.append(query)\n",
    "    return\n",
    "for x in range (1,15):\n",
    "    getQueries('python', x)\n",
    "    getQueries('excel', x)\n",
    "    getQueries('R', x)\n",
    "    getQueries('SQL', x)\n",
    "    getQueries('Tableau', x)\n",
    "df = pd.DataFrame(querylist)\n",
    "df.to_csv('stackoverflow_querylist.csv')\n"
   ]
  },
  {
   "cell_type": "code",
   "execution_count": null,
   "metadata": {},
   "outputs": [],
   "source": []
  }
 ],
 "metadata": {
  "kernelspec": {
   "display_name": "Python 3",
   "language": "python",
   "name": "python3"
  },
  "language_info": {
   "codemirror_mode": {
    "name": "ipython",
    "version": 3
   },
   "file_extension": ".py",
   "mimetype": "text/x-python",
   "name": "python",
   "nbconvert_exporter": "python",
   "pygments_lexer": "ipython3",
   "version": "3.8.5"
  }
 },
 "nbformat": 4,
 "nbformat_minor": 4
}
